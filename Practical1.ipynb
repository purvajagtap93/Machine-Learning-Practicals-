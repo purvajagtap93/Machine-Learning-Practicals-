{
 "cells": [
  {
   "cell_type": "code",
   "execution_count": 1,
   "id": "e8013097-24a9-4be1-a766-d22b31e8a1bc",
   "metadata": {},
   "outputs": [],
   "source": [
    "def calculate_mean(numbers):\n",
    "    return sum(numbers) / len(numbers)"
   ]
  },
  {
   "cell_type": "code",
   "execution_count": 2,
   "id": "f12a4ab1-6415-458c-9b47-2fcda9634371",
   "metadata": {},
   "outputs": [],
   "source": [
    "def calculate_median(numbers):\n",
    "    numbers.sort()\n",
    "    n = len(numbers)\n",
    "    middle = n // 2\n",
    "    return (numbers[middle - 1] + numbers[middle]) / 2 if n % 2 == 0 else numbers[middle]"
   ]
  },
  {
   "cell_type": "code",
   "execution_count": 3,
   "id": "5b966afc-2854-4c8e-a835-4379dbc7d959",
   "metadata": {},
   "outputs": [],
   "source": [
    "def calculate_standard_deviation(numbers):\n",
    "    mean = calculate_mean(numbers)\n",
    "    variance = sum((x - mean) ** 2 for x in numbers) / len(numbers)\n",
    "    return variance ** 0.5"
   ]
  },
  {
   "cell_type": "code",
   "execution_count": 4,
   "id": "459ec88e-bb4a-4635-b5fb-3050ec55810e",
   "metadata": {},
   "outputs": [],
   "source": [
    "def calculate_mode(numbers):\n",
    "    from collections import Counter\n",
    "    frequency = Counter(numbers)\n",
    "    max_count = max(frequency.values())\n",
    "    return [key for key, value in frequency.items() if value == max_count]"
   ]
  },
  {
   "cell_type": "code",
   "execution_count": 5,
   "id": "c4136d44-aece-4988-9be4-86cca29d4b17",
   "metadata": {},
   "outputs": [
    {
     "name": "stdin",
     "output_type": "stream",
     "text": [
      "Enter numbers separated by spaces:  10\n"
     ]
    }
   ],
   "source": [
    "numbers = list(map(int, input(\"Enter numbers separated by spaces: \").split()))"
   ]
  },
  {
   "cell_type": "code",
   "execution_count": 6,
   "id": "9fcc5e2b-7c84-4b6e-ab35-567442f4040b",
   "metadata": {},
   "outputs": [
    {
     "name": "stdout",
     "output_type": "stream",
     "text": [
      "Mean:10.0\n",
      "Median:10\n",
      "Standard Deviation:0.0\n",
      "Mode:[10]\n"
     ]
    }
   ],
   "source": [
    "print(f\"Mean:{calculate_mean(numbers)}\")\n",
    "print(f\"Median:{calculate_median(numbers)}\")\n",
    "print(f\"Standard Deviation:{calculate_standard_deviation(numbers)}\")\n",
    "print(f\"Mode:{calculate_mode(numbers)}\")"
   ]
  },
  {
   "cell_type": "code",
   "execution_count": null,
   "id": "16fa0ef3-d9f1-4607-a63a-048f03b35263",
   "metadata": {},
   "outputs": [],
   "source": []
  }
 ],
 "metadata": {
  "kernelspec": {
   "display_name": "Python 3 (ipykernel)",
   "language": "python",
   "name": "python3"
  },
  "language_info": {
   "codemirror_mode": {
    "name": "ipython",
    "version": 3
   },
   "file_extension": ".py",
   "mimetype": "text/x-python",
   "name": "python",
   "nbconvert_exporter": "python",
   "pygments_lexer": "ipython3",
   "version": "3.10.5"
  }
 },
 "nbformat": 4,
 "nbformat_minor": 5
}
