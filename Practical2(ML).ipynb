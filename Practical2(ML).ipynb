{
 "cells": [
  {
   "cell_type": "code",
   "execution_count": 1,
   "id": "97bea706-ba1e-4596-88b9-49a2c8ba3819",
   "metadata": {},
   "outputs": [],
   "source": [
    "import pandas as pd\n",
    "import numpy as np"
   ]
  },
  {
   "cell_type": "code",
   "execution_count": 2,
   "id": "31895d97-3e03-4437-bb26-2eca4198ec98",
   "metadata": {},
   "outputs": [],
   "source": [
    "data = {\n",
    "    \"Name\": [\"Nikhil\", \"Vaishnavi\", \"Kapil\", \"Neha\", \"Piyush\"],\n",
    "    \"Age\": [21 , 22 , 25 , 20 , 18 ],\n",
    "    \"Score\": [95 , 99 , 92 , 97 , 78]\n",
    "}\n",
    "df = pd.DataFrame(data)"
   ]
  },
  {
   "cell_type": "code",
   "execution_count": 3,
   "id": "bb6b17d0-5acb-4296-b8f2-94b553df2b79",
   "metadata": {},
   "outputs": [
    {
     "name": "stdout",
     "output_type": "stream",
     "text": [
      "DataFrame:\n",
      "         Name  Age  Score\n",
      "0     Nikhil   21     95\n",
      "1  Vaishnavi   22     99\n",
      "2      Kapil   25     92\n",
      "3       Neha   20     97\n",
      "4     Piyush   18     78\n"
     ]
    }
   ],
   "source": [
    "print(\"DataFrame:\\n\", df)"
   ]
  },
  {
   "cell_type": "code",
   "execution_count": 4,
   "id": "83421e5e-78ae-44a0-8629-31384a6d7350",
   "metadata": {},
   "outputs": [
    {
     "name": "stdout",
     "output_type": "stream",
     "text": [
      "\n",
      "Retreived Column - Age:\n",
      " 0    21\n",
      "1    22\n",
      "2    25\n",
      "3    20\n",
      "4    18\n",
      "Name: Age, dtype: int64\n"
     ]
    }
   ],
   "source": [
    "age_column = df[\"Age\"]\n",
    "print(\"\\nRetreived Column - Age:\\n\", age_column)"
   ]
  },
  {
   "cell_type": "code",
   "execution_count": 5,
   "id": "c6f86523-31b6-4ffb-b3df-c2ba7d2b72c2",
   "metadata": {},
   "outputs": [
    {
     "name": "stdout",
     "output_type": "stream",
     "text": [
      "\n",
      "Summary Statistics of DataFrame:\n",
      "              Age      Score\n",
      "count   5.000000   5.000000\n",
      "mean   21.200000  92.200000\n",
      "std     2.588436   8.348653\n",
      "min    18.000000  78.000000\n",
      "25%    20.000000  92.000000\n",
      "50%    21.000000  95.000000\n",
      "75%    22.000000  97.000000\n",
      "max    25.000000  99.000000\n"
     ]
    }
   ],
   "source": [
    "summary = df.describe()\n",
    "print(\"\\nSummary Statistics of DataFrame:\\n\", summary)"
   ]
  },
  {
   "cell_type": "code",
   "execution_count": 6,
   "id": "d5e4403c-55bc-4779-8f25-8629bc6e2b91",
   "metadata": {},
   "outputs": [],
   "source": [
    "mean_values = df.select_dtypes(include=[np.number]).mean()\n",
    "std_values = df.select_dtypes(include=[np.number]).std()"
   ]
  },
  {
   "cell_type": "code",
   "execution_count": 7,
   "id": "306a2263-f37c-4175-89af-f3159e07dfe3",
   "metadata": {},
   "outputs": [
    {
     "name": "stdout",
     "output_type": "stream",
     "text": [
      "\n",
      "Mean Values:\n",
      " Age      21.2\n",
      "Score    92.2\n",
      "dtype: float64\n",
      "\n",
      "Standard Deviation Values:\n",
      " Age      2.588436\n",
      "Score    8.348653\n",
      "dtype: float64\n"
     ]
    }
   ],
   "source": [
    "print(\"\\nMean Values:\\n\", mean_values)\n",
    "print(\"\\nStandard Deviation Values:\\n\", std_values)"
   ]
  },
  {
   "cell_type": "code",
   "execution_count": null,
   "id": "21e6d829-237d-49bb-a5ca-618e32058c1d",
   "metadata": {},
   "outputs": [],
   "source": []
  }
 ],
 "metadata": {
  "kernelspec": {
   "display_name": "Python 3 (ipykernel)",
   "language": "python",
   "name": "python3"
  },
  "language_info": {
   "codemirror_mode": {
    "name": "ipython",
    "version": 3
   },
   "file_extension": ".py",
   "mimetype": "text/x-python",
   "name": "python",
   "nbconvert_exporter": "python",
   "pygments_lexer": "ipython3",
   "version": "3.10.5"
  }
 },
 "nbformat": 4,
 "nbformat_minor": 5
}
