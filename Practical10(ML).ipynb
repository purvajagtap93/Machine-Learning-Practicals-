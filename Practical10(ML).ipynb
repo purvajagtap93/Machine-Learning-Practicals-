{
 "cells": [
  {
   "cell_type": "code",
   "execution_count": 1,
   "id": "b27ea34c-9ccb-43a6-b74d-e0965c2e41b9",
   "metadata": {},
   "outputs": [],
   "source": [
    "import numpy as np"
   ]
  },
  {
   "cell_type": "code",
   "execution_count": 2,
   "id": "31cd657c-3ed5-4d12-9cd4-8cdb2be0c971",
   "metadata": {},
   "outputs": [],
   "source": [
    "def sigmoid(x):\n",
    "    return 1 / (1 + np.exp(-x))"
   ]
  },
  {
   "cell_type": "code",
   "execution_count": 3,
   "id": "6b2fc08b-219f-4cda-bc01-e453220b5488",
   "metadata": {},
   "outputs": [],
   "source": [
    "def sigmoid_derivative(x):\n",
    "    return x * (1 - x)"
   ]
  },
  {
   "cell_type": "code",
   "execution_count": 6,
   "id": "17009f28-5bac-44c8-83df-ad104db4b230",
   "metadata": {},
   "outputs": [],
   "source": [
    "def binary_cross_entropy(y_true, y_pred):\n",
    "    return -np.mean(y_true * np.log(y_pred + 1e-7) + (1 - y_true) * np.log(1 - y_pred + 1e-7))"
   ]
  },
  {
   "cell_type": "code",
   "execution_count": 7,
   "id": "e35943ca-89b8-4a19-b6f9-48bb027c4147",
   "metadata": {},
   "outputs": [],
   "source": [
    "def train_neural_network(X, y, epochs=10000, lr=0.1):\n",
    "    input_dim = X.shape[1]\n",
    "    weights = np.random.uniform(size=(input_dim, 1))\n",
    "    bias = np.random.uniform(size=(1,))\n",
    "\n",
    "    for epoch in range(epochs):\n",
    "        linear_output = np.dot(X, weights) + bias\n",
    "        predictions = sigmoid(linear_output)\n",
    "\n",
    "        loss = binary_cross_entropy(y, predictions)\n",
    "\n",
    "        error = predictions - y\n",
    "        d_pred = error * sigmoid_derivative(predictions)\n",
    "\n",
    "        weights -= lr * np.dot(X.T, d_pred)\n",
    "        bias -= lr * np.sum(d_pred)\n",
    "\n",
    "        if epoch % 1000 == 0:\n",
    "            print(f\"Epoch {epoch}, Loss: {loss:.4f}\")\n",
    "    \n",
    "    return weights, bias"
   ]
  },
  {
   "cell_type": "code",
   "execution_count": 8,
   "id": "890da2ac-359b-46d6-a93f-b18c8b3e0e6c",
   "metadata": {},
   "outputs": [],
   "source": [
    "def predict(X, weights, bias):\n",
    "    return sigmoid(np.dot(X, weights) + bias) >= 0.5"
   ]
  },
  {
   "cell_type": "code",
   "execution_count": 9,
   "id": "826e7204-d128-431f-b34d-adfec3a09da1",
   "metadata": {},
   "outputs": [
    {
     "name": "stdout",
     "output_type": "stream",
     "text": [
      "\n",
      "Training for AND gate:\n",
      "Epoch 0, Loss: 0.8242\n",
      "Epoch 1000, Loss: 0.1725\n",
      "Epoch 2000, Loss: 0.1165\n",
      "Epoch 3000, Loss: 0.0918\n",
      "Epoch 4000, Loss: 0.0775\n",
      "Epoch 5000, Loss: 0.0680\n",
      "Epoch 6000, Loss: 0.0612\n",
      "Epoch 7000, Loss: 0.0560\n",
      "Epoch 8000, Loss: 0.0519\n",
      "Epoch 9000, Loss: 0.0485\n",
      "Predictions for AND gate:\n",
      "[0 0 0 1]\n",
      "\n",
      "Training for OR gate:\n",
      "Epoch 0, Loss: 0.5357\n",
      "Epoch 1000, Loss: 0.1288\n",
      "Epoch 2000, Loss: 0.0825\n",
      "Epoch 3000, Loss: 0.0642\n",
      "Epoch 4000, Loss: 0.0539\n",
      "Epoch 5000, Loss: 0.0473\n",
      "Epoch 6000, Loss: 0.0425\n",
      "Epoch 7000, Loss: 0.0389\n",
      "Epoch 8000, Loss: 0.0360\n",
      "Epoch 9000, Loss: 0.0337\n",
      "Predictions for OR gate:\n",
      "[0 1 1 1]\n",
      "\n",
      "Training for NAND gate:\n",
      "Epoch 0, Loss: 0.7024\n",
      "Epoch 1000, Loss: 0.1811\n",
      "Epoch 2000, Loss: 0.1195\n",
      "Epoch 3000, Loss: 0.0934\n",
      "Epoch 4000, Loss: 0.0785\n",
      "Epoch 5000, Loss: 0.0687\n",
      "Epoch 6000, Loss: 0.0617\n",
      "Epoch 7000, Loss: 0.0564\n",
      "Epoch 8000, Loss: 0.0522\n",
      "Epoch 9000, Loss: 0.0488\n",
      "Predictions for NAND gate:\n",
      "[1 1 1 0]\n",
      "\n",
      "Training for NOR gate:\n",
      "Epoch 0, Loss: 1.3818\n",
      "Epoch 1000, Loss: 0.1250\n",
      "Epoch 2000, Loss: 0.0813\n",
      "Epoch 3000, Loss: 0.0636\n",
      "Epoch 4000, Loss: 0.0536\n",
      "Epoch 5000, Loss: 0.0470\n",
      "Epoch 6000, Loss: 0.0423\n",
      "Epoch 7000, Loss: 0.0387\n",
      "Epoch 8000, Loss: 0.0359\n",
      "Epoch 9000, Loss: 0.0336\n",
      "Predictions for NOR gate:\n",
      "[1 0 0 0]\n",
      "\n",
      "Training for XOR gate:\n",
      "Epoch 0, Loss: 0.7866\n",
      "Epoch 1000, Loss: 0.6931\n",
      "Epoch 2000, Loss: 0.6931\n",
      "Epoch 3000, Loss: 0.6931\n",
      "Epoch 4000, Loss: 0.6931\n",
      "Epoch 5000, Loss: 0.6931\n",
      "Epoch 6000, Loss: 0.6931\n",
      "Epoch 7000, Loss: 0.6931\n",
      "Epoch 8000, Loss: 0.6931\n",
      "Epoch 9000, Loss: 0.6931\n",
      "Predictions for XOR gate:\n",
      "[1 1 1 1]\n"
     ]
    }
   ],
   "source": [
    "X = np.array([[0, 0], [0, 1], [1, 0], [1, 1]])\n",
    "\n",
    "logic_gates = {\n",
    "    \"AND\": np.array([[0], [0], [0], [1]]),\n",
    "    \"OR\": np.array([[0], [1], [1], [1]]),\n",
    "    \"NAND\": np.array([[1], [1], [1], [0]]),\n",
    "    \"NOR\": np.array([[1], [0], [0], [0]]),\n",
    "    \"XOR\": np.array([[0], [1], [1], [0]])\n",
    "}\n",
    "\n",
    "for gate_name, y in logic_gates.items():\n",
    "    print(f\"\\nTraining for {gate_name} gate:\")\n",
    "    weights, bias = train_neural_network(X, y, epochs=10000, lr=0.1)\n",
    "    predictions = predict(X, weights, bias).astype(int)\n",
    "    print(f\"Predictions for {gate_name} gate:\\n{predictions.reshape(-1)}\")"
   ]
  },
  {
   "cell_type": "code",
   "execution_count": null,
   "id": "0230d43f-a641-4ad8-b049-715ab6f7e520",
   "metadata": {},
   "outputs": [],
   "source": []
  }
 ],
 "metadata": {
  "kernelspec": {
   "display_name": "Python 3 (ipykernel)",
   "language": "python",
   "name": "python3"
  },
  "language_info": {
   "codemirror_mode": {
    "name": "ipython",
    "version": 3
   },
   "file_extension": ".py",
   "mimetype": "text/x-python",
   "name": "python",
   "nbconvert_exporter": "python",
   "pygments_lexer": "ipython3",
   "version": "3.10.5"
  }
 },
 "nbformat": 4,
 "nbformat_minor": 5
}
